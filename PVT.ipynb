{
 "cells": [
  {
   "cell_type": "code",
   "execution_count": 3,
   "id": "b90c1088",
   "metadata": {},
   "outputs": [
    {
     "name": "stdout",
     "output_type": "stream",
     "text": [
      "Requirement already satisfied: timm in c:\\users\\pravi\\appdata\\local\\programs\\python\\python311\\lib\\site-packages (1.0.15)\n",
      "Requirement already satisfied: torch in c:\\users\\pravi\\appdata\\local\\programs\\python\\python311\\lib\\site-packages (from timm) (2.6.0+cu126)\n",
      "Requirement already satisfied: torchvision in c:\\users\\pravi\\appdata\\local\\programs\\python\\python311\\lib\\site-packages (from timm) (0.21.0)\n",
      "Requirement already satisfied: pyyaml in c:\\users\\pravi\\appdata\\local\\programs\\python\\python311\\lib\\site-packages (from timm) (6.0.2)\n",
      "Requirement already satisfied: huggingface_hub in c:\\users\\pravi\\appdata\\local\\programs\\python\\python311\\lib\\site-packages (from timm) (0.30.2)\n",
      "Requirement already satisfied: safetensors in c:\\users\\pravi\\appdata\\local\\programs\\python\\python311\\lib\\site-packages (from timm) (0.5.3)\n",
      "Requirement already satisfied: filelock in c:\\users\\pravi\\appdata\\local\\programs\\python\\python311\\lib\\site-packages (from huggingface_hub->timm) (3.17.0)\n",
      "Requirement already satisfied: fsspec>=2023.5.0 in c:\\users\\pravi\\appdata\\local\\programs\\python\\python311\\lib\\site-packages (from huggingface_hub->timm) (2024.12.0)\n",
      "Requirement already satisfied: packaging>=20.9 in c:\\users\\pravi\\appdata\\roaming\\python\\python311\\site-packages (from huggingface_hub->timm) (24.2)\n",
      "Requirement already satisfied: requests in c:\\users\\pravi\\appdata\\local\\programs\\python\\python311\\lib\\site-packages (from huggingface_hub->timm) (2.32.3)\n",
      "Requirement already satisfied: tqdm>=4.42.1 in c:\\users\\pravi\\appdata\\local\\programs\\python\\python311\\lib\\site-packages (from huggingface_hub->timm) (4.67.1)\n",
      "Requirement already satisfied: typing-extensions>=3.7.4.3 in c:\\users\\pravi\\appdata\\roaming\\python\\python311\\site-packages (from huggingface_hub->timm) (4.12.2)\n",
      "Requirement already satisfied: colorama in c:\\users\\pravi\\appdata\\roaming\\python\\python311\\site-packages (from tqdm>=4.42.1->huggingface_hub->timm) (0.4.6)\n",
      "Requirement already satisfied: charset-normalizer<4,>=2 in c:\\users\\pravi\\appdata\\local\\programs\\python\\python311\\lib\\site-packages (from requests->huggingface_hub->timm) (3.4.1)\n",
      "Requirement already satisfied: idna<4,>=2.5 in c:\\users\\pravi\\appdata\\local\\programs\\python\\python311\\lib\\site-packages (from requests->huggingface_hub->timm) (3.7)\n",
      "Requirement already satisfied: urllib3<3,>=1.21.1 in c:\\users\\pravi\\appdata\\local\\programs\\python\\python311\\lib\\site-packages (from requests->huggingface_hub->timm) (2.3.0)\n",
      "Requirement already satisfied: certifi>=2017.4.17 in c:\\users\\pravi\\appdata\\local\\programs\\python\\python311\\lib\\site-packages (from requests->huggingface_hub->timm) (2025.1.31)\n",
      "Requirement already satisfied: networkx in c:\\users\\pravi\\appdata\\local\\programs\\python\\python311\\lib\\site-packages (from torch->timm) (3.4.2)\n",
      "Requirement already satisfied: jinja2 in c:\\users\\pravi\\appdata\\local\\programs\\python\\python311\\lib\\site-packages (from torch->timm) (3.1.6)\n",
      "Requirement already satisfied: sympy==1.13.1 in c:\\users\\pravi\\appdata\\local\\programs\\python\\python311\\lib\\site-packages (from torch->timm) (1.13.1)\n",
      "Requirement already satisfied: mpmath<1.4,>=1.1.0 in c:\\users\\pravi\\appdata\\local\\programs\\python\\python311\\lib\\site-packages (from sympy==1.13.1->torch->timm) (1.3.0)\n",
      "Requirement already satisfied: MarkupSafe>=2.0 in c:\\users\\pravi\\appdata\\local\\programs\\python\\python311\\lib\\site-packages (from jinja2->torch->timm) (3.0.2)\n",
      "Requirement already satisfied: numpy in c:\\users\\pravi\\appdata\\local\\programs\\python\\python311\\lib\\site-packages (from torchvision->timm) (2.1.3)\n",
      "Requirement already satisfied: pillow!=8.3.*,>=5.3.0 in c:\\users\\pravi\\appdata\\local\\programs\\python\\python311\\lib\\site-packages (from torchvision->timm) (11.1.0)\n"
     ]
    },
    {
     "name": "stderr",
     "output_type": "stream",
     "text": [
      "\n",
      "[notice] A new release of pip is available: 25.1 -> 25.1.1\n",
      "[notice] To update, run: python.exe -m pip install --upgrade pip\n"
     ]
    }
   ],
   "source": [
    "# install jika belum ada modelnya\n",
    "!pip install timm\n"
   ]
  },
  {
   "cell_type": "code",
   "execution_count": 6,
   "id": "479df90f",
   "metadata": {},
   "outputs": [],
   "source": [
    "import os\n",
    "import torch\n",
    "import torch.nn as nn\n",
    "import torch.optim as optim\n",
    "from torchvision.datasets import ImageFolder\n",
    "from torchvision import transforms\n",
    "from torch.utils.data import DataLoader\n",
    "from timm import create_model\n",
    "from torch.cuda.amp import GradScaler, autocast\n",
    "from sklearn.metrics import classification_report, confusion_matrix\n",
    "import numpy as np\n",
    "import matplotlib.pyplot as plt\n",
    "import seaborn as sns\n"
   ]
  },
  {
   "cell_type": "code",
   "execution_count": 7,
   "id": "880600c4",
   "metadata": {},
   "outputs": [
    {
     "name": "stdout",
     "output_type": "stream",
     "text": [
      "📟 Device: cuda\n"
     ]
    }
   ],
   "source": [
    "\n",
    "device = torch.device(\"cuda\" if torch.cuda.is_available() else \"cpu\")\n",
    "print(f\"📟 Device: {device}\")\n"
   ]
  },
  {
   "cell_type": "code",
   "execution_count": 8,
   "id": "cc4cf8d0",
   "metadata": {},
   "outputs": [],
   "source": [
    "train_transform = transforms.Compose([\n",
    "    transforms.Resize((224, 224)),\n",
    "    transforms.RandomHorizontalFlip(),\n",
    "    transforms.RandomAffine(degrees=5, translate=(0.05, 0.05)),\n",
    "    transforms.ToTensor(),\n",
    "    transforms.Normalize([0.5], [0.5])\n",
    "])\n",
    "\n",
    "test_transform = transforms.Compose([\n",
    "    transforms.Resize((224, 224)),\n",
    "    transforms.ToTensor(),\n",
    "    transforms.Normalize([0.5], [0.5])\n",
    "])\n"
   ]
  },
  {
   "cell_type": "code",
   "execution_count": 9,
   "id": "f818df83",
   "metadata": {},
   "outputs": [
    {
     "name": "stdout",
     "output_type": "stream",
     "text": [
      "📊 Train: 150992 | Test: 33335\n",
      "📂 Classes: ['A', 'AFIB', 'AFL', 'L', 'N', 'R', 'V']\n"
     ]
    }
   ],
   "source": [
    "train_dir = \"dataset_vit_aug/train\"\n",
    "test_dir = \"dataset_vit/test\"\n",
    "\n",
    "train_dataset = ImageFolder(train_dir, transform=train_transform)\n",
    "test_dataset = ImageFolder(test_dir, transform=test_transform)\n",
    "\n",
    "print(f\"📊 Train: {len(train_dataset)} | Test: {len(test_dataset)}\")\n",
    "print(f\"📂 Classes: {train_dataset.classes}\")\n"
   ]
  },
  {
   "cell_type": "code",
   "execution_count": 10,
   "id": "445d4936",
   "metadata": {},
   "outputs": [
    {
     "name": "stdout",
     "output_type": "stream",
     "text": [
      "🟢 Train: 128343 | 🟡 Val: 22649\n"
     ]
    }
   ],
   "source": [
    "from torch.utils.data import random_split\n",
    "\n",
    "train_size = int(0.85 * len(train_dataset))\n",
    "val_size = len(train_dataset) - train_size\n",
    "train_set, val_set = random_split(train_dataset, [train_size, val_size])\n",
    "\n",
    "print(f\"🟢 Train: {len(train_set)} | 🟡 Val: {len(val_set)}\")\n"
   ]
  },
  {
   "cell_type": "code",
   "execution_count": 11,
   "id": "41cdcafa",
   "metadata": {},
   "outputs": [],
   "source": [
    "batch_size = 32\n",
    "\n",
    "train_loader = DataLoader(train_set, batch_size=batch_size, shuffle=True, num_workers=4, pin_memory=True)\n",
    "val_loader = DataLoader(val_set, batch_size=batch_size, shuffle=False, num_workers=4, pin_memory=True)\n",
    "test_loader = DataLoader(test_dataset, batch_size=batch_size, shuffle=False, num_workers=4, pin_memory=True)\n"
   ]
  },
  {
   "cell_type": "code",
   "execution_count": 12,
   "id": "3e54b8ef",
   "metadata": {},
   "outputs": [
    {
     "name": "stdout",
     "output_type": "stream",
     "text": [
      "✅ PvT model dengan tuning siap di GPU\n"
     ]
    }
   ],
   "source": [
    "model = create_model(\"pvt_v2_b0\", pretrained=True, num_classes=0)  # Hilangkan head dulu\n",
    "model.head = nn.Sequential(\n",
    "    nn.Dropout(0.2),\n",
    "    nn.Linear(model.num_features, len(train_dataset.classes))\n",
    ")\n",
    "model = model.to(device)\n",
    "print(\"✅ PvT model dengan tuning siap di GPU\")\n"
   ]
  },
  {
   "cell_type": "code",
   "execution_count": 13,
   "id": "ff0b5bdd",
   "metadata": {},
   "outputs": [
    {
     "name": "stderr",
     "output_type": "stream",
     "text": [
      "C:\\Users\\pravi\\AppData\\Local\\Temp\\ipykernel_8984\\3497366540.py:7: FutureWarning: `torch.cuda.amp.GradScaler(args...)` is deprecated. Please use `torch.amp.GradScaler('cuda', args...)` instead.\n",
      "  scaler = torch.cuda.amp.GradScaler()\n"
     ]
    }
   ],
   "source": [
    "import time\n",
    "from tqdm import tqdm\n",
    "\n",
    "num_epochs = 5\n",
    "criterion = nn.CrossEntropyLoss()\n",
    "optimizer = optim.AdamW(model.parameters(), lr=1e-4)\n",
    "scaler = torch.cuda.amp.GradScaler()\n"
   ]
  },
  {
   "cell_type": "code",
   "execution_count": 14,
   "id": "db7bc967",
   "metadata": {},
   "outputs": [
    {
     "name": "stderr",
     "output_type": "stream",
     "text": [
      "🚀 Epoch [1/5]:   0%|          | 0/4011 [00:00<?, ?it/s]C:\\Users\\pravi\\AppData\\Local\\Temp\\ipykernel_8984\\3702559720.py:16: FutureWarning: `torch.cuda.amp.autocast(args...)` is deprecated. Please use `torch.amp.autocast('cuda', args...)` instead.\n",
      "  with autocast():\n",
      "🚀 Epoch [1/5]: 100%|██████████| 4011/4011 [05:25<00:00, 12.33it/s, loss=0.0839] \n"
     ]
    },
    {
     "name": "stdout",
     "output_type": "stream",
     "text": [
      "✅ Epoch 1 selesai - Loss: 0.1262 - 🎯 Akurasi: 96.09% - ⏱️ Durasi: 5m 25s\n",
      "📈 GPU Mem Used: 83.12 MB\n"
     ]
    },
    {
     "name": "stderr",
     "output_type": "stream",
     "text": [
      "🚀 Epoch [2/5]: 100%|██████████| 4011/4011 [05:18<00:00, 12.61it/s, loss=0.158]   \n"
     ]
    },
    {
     "name": "stdout",
     "output_type": "stream",
     "text": [
      "✅ Epoch 2 selesai - Loss: 0.0574 - 🎯 Akurasi: 98.20% - ⏱️ Durasi: 5m 18s\n",
      "📈 GPU Mem Used: 83.12 MB\n"
     ]
    },
    {
     "name": "stderr",
     "output_type": "stream",
     "text": [
      "🚀 Epoch [3/5]: 100%|██████████| 4011/4011 [05:15<00:00, 12.71it/s, loss=0.009]   \n"
     ]
    },
    {
     "name": "stdout",
     "output_type": "stream",
     "text": [
      "✅ Epoch 3 selesai - Loss: 0.0427 - 🎯 Akurasi: 98.61% - ⏱️ Durasi: 5m 15s\n",
      "📈 GPU Mem Used: 83.12 MB\n"
     ]
    },
    {
     "name": "stderr",
     "output_type": "stream",
     "text": [
      "🚀 Epoch [4/5]: 100%|██████████| 4011/4011 [05:21<00:00, 12.47it/s, loss=0.00347] \n"
     ]
    },
    {
     "name": "stdout",
     "output_type": "stream",
     "text": [
      "✅ Epoch 4 selesai - Loss: 0.0345 - 🎯 Akurasi: 98.85% - ⏱️ Durasi: 5m 21s\n",
      "📈 GPU Mem Used: 83.12 MB\n"
     ]
    },
    {
     "name": "stderr",
     "output_type": "stream",
     "text": [
      "🚀 Epoch [5/5]: 100%|██████████| 4011/4011 [05:28<00:00, 12.21it/s, loss=0.00349] "
     ]
    },
    {
     "name": "stdout",
     "output_type": "stream",
     "text": [
      "✅ Epoch 5 selesai - Loss: 0.0290 - 🎯 Akurasi: 99.06% - ⏱️ Durasi: 5m 28s\n",
      "📈 GPU Mem Used: 83.12 MB\n"
     ]
    },
    {
     "name": "stderr",
     "output_type": "stream",
     "text": [
      "\n"
     ]
    }
   ],
   "source": [
    "for epoch in range(num_epochs):\n",
    "    model.train()\n",
    "    total_loss = 0\n",
    "    correct = 0\n",
    "    total_samples = 0\n",
    "    start_time = time.time()\n",
    "\n",
    "    loop = tqdm(train_loader, desc=f\"🚀 Epoch [{epoch+1}/{num_epochs}]\")\n",
    "\n",
    "    for images, labels in loop:\n",
    "        images = images.to(device, non_blocking=True)\n",
    "        labels = labels.to(device, non_blocking=True)\n",
    "\n",
    "        optimizer.zero_grad()\n",
    "\n",
    "        with autocast():\n",
    "            outputs = model(images)\n",
    "            loss = criterion(outputs, labels)\n",
    "\n",
    "        scaler.scale(loss).backward()\n",
    "        scaler.step(optimizer)\n",
    "        scaler.update()\n",
    "\n",
    "        total_loss += loss.item()\n",
    "        _, preds = torch.max(outputs, 1)\n",
    "        correct += (preds == labels).sum().item()\n",
    "        total_samples += labels.size(0)\n",
    "\n",
    "        loop.set_postfix(loss=loss.item())\n",
    "\n",
    "    acc = correct / total_samples * 100\n",
    "    avg_loss = total_loss / len(train_loader)\n",
    "    mins, secs = divmod(time.time() - start_time, 60)\n",
    "    print(f\"✅ Epoch {epoch+1} selesai - Loss: {avg_loss:.4f} - 🎯 Akurasi: {acc:.2f}% - ⏱️ Durasi: {int(mins)}m {int(secs)}s\")\n",
    "    print(f\"📈 GPU Mem Used: {torch.cuda.memory_allocated() / 1024**2:.2f} MB\")\n"
   ]
  },
  {
   "cell_type": "code",
   "execution_count": 15,
   "id": "6bd905e9",
   "metadata": {},
   "outputs": [],
   "source": [
    "class_names = train_dataset.classes\n",
    "model.eval()\n",
    "y_true = []\n",
    "y_pred = []\n",
    "\n",
    "with torch.no_grad():\n",
    "    for inputs, labels in test_loader:\n",
    "        inputs, labels = inputs.to(device), labels.to(device)\n",
    "        outputs = model(inputs)\n",
    "        _, preds = torch.max(outputs, 1)\n",
    "        y_true.extend(labels.cpu().numpy())\n",
    "        y_pred.extend(preds.cpu().numpy())\n",
    "\n",
    "report = classification_report(y_true, y_pred, target_names=class_names, output_dict=True)\n",
    "cm = confusion_matrix(y_true, y_pred)\n"
   ]
  },
  {
   "cell_type": "code",
   "execution_count": 16,
   "id": "74766dc1",
   "metadata": {},
   "outputs": [],
   "source": [
    "def calculate_specificity(cm):\n",
    "    specificity = []\n",
    "    for i in range(len(cm)):\n",
    "        tn = np.sum(np.delete(np.delete(cm, i, axis=0), i, axis=1))\n",
    "        fp = np.sum(np.delete(cm[:, i], i))\n",
    "        specificity.append(tn / (tn + fp + 1e-8))\n",
    "    return specificity\n",
    "\n",
    "def calculate_per_class_accuracy(cm):\n",
    "    accuracy = []\n",
    "    for i in range(len(cm)):\n",
    "        tp = cm[i, i]\n",
    "        tn = np.sum(np.delete(np.delete(cm, i, axis=0), i, axis=1))\n",
    "        fp = np.sum(cm[:, i]) - tp\n",
    "        fn = np.sum(cm[i, :]) - tp\n",
    "        acc = (tp + tn) / (tp + tn + fp + fn + 1e-8)\n",
    "        accuracy.append(acc)\n",
    "    return accuracy\n",
    "\n",
    "specificities = calculate_specificity(cm)\n",
    "accuracies = calculate_per_class_accuracy(cm)\n"
   ]
  },
  {
   "cell_type": "code",
   "execution_count": 17,
   "id": "1d3d928a",
   "metadata": {},
   "outputs": [
    {
     "name": "stdout",
     "output_type": "stream",
     "text": [
      "Class        Accuracy  Precision  Sensitivity  Specificity   F1-Score\n",
      "A               99.63      95.84        87.43        99.91      91.44\n",
      "AFIB            99.98      99.79        99.97        99.98      99.88\n",
      "AFL             99.98      97.78        86.27       100.00      91.67\n",
      "L               99.95      99.67        99.67        99.97      99.67\n",
      "N               99.44      99.47        99.70        98.89      99.58\n",
      "R               99.97      99.77        99.82        99.98      99.79\n",
      "V               99.77      97.91        98.55        99.86      98.23\n"
     ]
    }
   ],
   "source": [
    "print(f\"{'Class':<10} {'Accuracy':>10} {'Precision':>10} {'Sensitivity':>12} {'Specificity':>12} {'F1-Score':>10}\")\n",
    "for idx, cls in enumerate(class_names):\n",
    "    acc = accuracies[idx] * 100\n",
    "    prec = report[cls]['precision'] * 100\n",
    "    sens = report[cls]['recall'] * 100\n",
    "    spec = specificities[idx] * 100\n",
    "    f1 = report[cls]['f1-score'] * 100\n",
    "    print(f\"{cls:<10} {acc:10.2f} {prec:10.2f} {sens:12.2f} {spec:12.2f} {f1:10.2f}\")\n"
   ]
  },
  {
   "cell_type": "code",
   "execution_count": 18,
   "id": "3ccfb650",
   "metadata": {},
   "outputs": [
    {
     "data": {
      "image/png": "[encoded data removed]",
      "text/plain": [
       "<Figure size 800x600 with 2 Axes>"
      ]
     },
     "metadata": {},
     "output_type": "display_data"
    }
   ],
   "source": [
    "plt.figure(figsize=(8, 6))\n",
    "sns.heatmap(cm, annot=True, fmt=\"d\", xticklabels=class_names, yticklabels=class_names, cmap=\"Blues\")\n",
    "plt.xlabel(\"Predicted\")\n",
    "plt.ylabel(\"Actual\")\n",
    "plt.title(\"Confusion Matrix - Pyramid Vision Transformer\")\n",
    "plt.show()\n"
   ]
  },
  {
   "cell_type": "code",
   "execution_count": 19,
   "id": "166d940e",
   "metadata": {},
   "outputs": [
    {
     "name": "stdout",
     "output_type": "stream",
     "text": [
      "📦 Model PvT berhasil disimpan!\n"
     ]
    }
   ],
   "source": [
    "torch.save(model.state_dict(), \"model_pvt_tuning.pth\")\n",
    "print(\"📦 Model PvT berhasil disimpan!\")\n"
   ]
  },
  {
   "cell_type": "code",
   "execution_count": 20,
   "id": "0f2ec5da",
   "metadata": {},
   "outputs": [
    {
     "name": "stdout",
     "output_type": "stream",
     "text": [
      "📟 Device: cuda\n",
      "🧪 Test set dipersulit: 33335 sampel\n",
      "📂 Kelas: ['A', 'AFIB', 'AFL', 'L', 'N', 'R', 'V']\n",
      "✅ Model PvT dengan tuning berhasil dimuat ulang.\n"
     ]
    },
    {
     "name": "stderr",
     "output_type": "stream",
     "text": [
      "🔍 Evaluating PvT on Augmented Test Set: 100%|██████████| 1042/1042 [00:59<00:00, 17.58it/s]\n"
     ]
    },
    {
     "name": "stdout",
     "output_type": "stream",
     "text": [
      "\n",
      "📈 Classification Report:\n",
      "              precision    recall  f1-score   support\n",
      "\n",
      "           A       0.96      0.84      0.90       764\n",
      "        AFIB       1.00      1.00      1.00      3271\n",
      "         AFL       0.98      0.82      0.89        51\n",
      "           L       1.00      0.99      0.99      2422\n",
      "           N       0.99      1.00      0.99     22510\n",
      "           R       0.99      1.00      0.99      2178\n",
      "           V       0.97      0.98      0.98      2139\n",
      "\n",
      "    accuracy                           0.99     33335\n",
      "   macro avg       0.98      0.95      0.96     33335\n",
      "weighted avg       0.99      0.99      0.99     33335\n",
      "\n"
     ]
    },
    {
     "data": {
      "image/png": "[encoded data removed]",
      "text/plain": [
       "<Figure size 800x600 with 2 Axes>"
      ]
     },
     "metadata": {},
     "output_type": "display_data"
    },
    {
     "name": "stdout",
     "output_type": "stream",
     "text": [
      "\n",
      "Class        Accuracy  Precision  Sensitivity  Specificity   F1-Score\n",
      "A               99.56      95.98        84.29        99.92      89.76\n",
      "AFIB            99.96      99.73        99.91        99.97      99.82\n",
      "AFL             99.97      97.67        82.35       100.00      89.36\n",
      "L               99.93      99.55        99.42        99.96      99.48\n",
      "N               99.28      99.35        99.59        98.65      99.47\n",
      "R               99.93      99.13        99.77        99.94      99.45\n",
      "V               99.68      96.82        98.22        99.78      97.52\n"
     ]
    }
   ],
   "source": [
    "import torch\n",
    "from torchvision import datasets, transforms\n",
    "from torch.utils.data import DataLoader\n",
    "import torch.nn as nn\n",
    "import numpy as np\n",
    "from sklearn.metrics import classification_report, confusion_matrix\n",
    "import matplotlib.pyplot as plt\n",
    "import seaborn as sns\n",
    "from tqdm import tqdm\n",
    "from timm import create_model\n",
    "\n",
    "# === Device\n",
    "device = torch.device(\"cuda\" if torch.cuda.is_available() else \"cpu\")\n",
    "print(f\"📟 Device: {device}\")\n",
    "\n",
    "# === Test Augmentasi Berat\n",
    "test_dir = \"dataset_vit/test\"\n",
    "test_transform = transforms.Compose([\n",
    "    transforms.Resize((224, 224)),\n",
    "    transforms.RandomRotation(20),\n",
    "    transforms.ColorJitter(brightness=0.4, contrast=0.4),\n",
    "    transforms.RandomAffine(degrees=10, translate=(0.1, 0.1), scale=(0.9, 1.1)),\n",
    "    transforms.ToTensor(),\n",
    "    transforms.Normalize([0.5], [0.5])\n",
    "])\n",
    "test_dataset = datasets.ImageFolder(test_dir, transform=test_transform)\n",
    "classes = test_dataset.classes\n",
    "test_loader = DataLoader(test_dataset, batch_size=32, shuffle=False, num_workers=4, pin_memory=True)\n",
    "print(f\"🧪 Test set dipersulit: {len(test_dataset)} sampel\")\n",
    "print(f\"📂 Kelas: {classes}\")\n",
    "\n",
    "# === Load Model PvT dengan Tuning\n",
    "model = create_model(\"pvt_v2_b0\", pretrained=True, num_classes=0)\n",
    "model.head = nn.Sequential(\n",
    "    nn.Dropout(0.2),\n",
    "    nn.Linear(model.num_features, len(classes))\n",
    ")\n",
    "model.load_state_dict(torch.load(\"model_pvt_tuning.pth\"))  # Ganti path kalau berbeda\n",
    "model = model.to(device)\n",
    "model.eval()\n",
    "print(\"✅ Model PvT dengan tuning berhasil dimuat ulang.\")\n",
    "\n",
    "# === Evaluasi Model\n",
    "y_true, y_pred = [], []\n",
    "with torch.no_grad():\n",
    "    loop = tqdm(test_loader, desc=\"🔍 Evaluating PvT on Augmented Test Set\")\n",
    "    for images, labels in loop:\n",
    "        images = images.to(device, non_blocking=True)\n",
    "        labels = labels.to(device, non_blocking=True)\n",
    "        outputs = model(images)\n",
    "        _, preds = torch.max(outputs, 1)\n",
    "        y_true.extend(labels.cpu().numpy())\n",
    "        y_pred.extend(preds.cpu().numpy())\n",
    "\n",
    "# === Classification Report & Confusion Matrix\n",
    "report = classification_report(y_true, y_pred, target_names=classes, output_dict=True)\n",
    "print(\"\\n📈 Classification Report:\")\n",
    "print(classification_report(y_true, y_pred, target_names=classes))\n",
    "cm = confusion_matrix(y_true, y_pred)\n",
    "plt.figure(figsize=(8, 6))\n",
    "sns.heatmap(cm, annot=True, fmt='d', cmap='Blues', xticklabels=classes, yticklabels=classes)\n",
    "plt.xlabel(\"Predicted\")\n",
    "plt.ylabel(\"True\")\n",
    "plt.title(\"Confusion Matrix – PvT on Augmented Test Set\")\n",
    "plt.tight_layout()\n",
    "plt.show()\n",
    "\n",
    "# === Metrik Tambahan: Specificity & Accuracy per Class\n",
    "def calculate_specificity(cm):\n",
    "    specificity = []\n",
    "    for i in range(len(cm)):\n",
    "        tn = np.sum(np.delete(np.delete(cm, i, axis=0), i, axis=1))\n",
    "        fp = np.sum(np.delete(cm[:, i], i))\n",
    "        specificity.append(tn / (tn + fp + 1e-8))\n",
    "    return specificity\n",
    "\n",
    "def calculate_per_class_accuracy(cm):\n",
    "    accuracy = []\n",
    "    for i in range(len(cm)):\n",
    "        tp = cm[i, i]\n",
    "        tn = np.sum(np.delete(np.delete(cm, i, axis=0), i, axis=1))\n",
    "        fp = np.sum(cm[:, i]) - tp\n",
    "        fn = np.sum(cm[i, :]) - tp\n",
    "        acc = (tp + tn) / (tp + tn + fp + fn + 1e-8)\n",
    "        accuracy.append(acc)\n",
    "    return accuracy\n",
    "\n",
    "specificities = calculate_specificity(cm)\n",
    "accuracies = calculate_per_class_accuracy(cm)\n",
    "\n",
    "# === Print Tabel Evaluasi per Kelas\n",
    "print(f\"\\n{'Class':<10} {'Accuracy':>10} {'Precision':>10} {'Sensitivity':>12} {'Specificity':>12} {'F1-Score':>10}\")\n",
    "for idx, cls in enumerate(classes):\n",
    "    acc = accuracies[idx] * 100\n",
    "    prec = report[cls]['precision'] * 100\n",
    "    sens = report[cls]['recall'] * 100\n",
    "    spec = specificities[idx] * 100\n",
    "    f1 = report[cls]['f1-score'] * 100\n",
    "    print(f\"{cls:<10} {acc:10.2f} {prec:10.2f} {sens:12.2f} {spec:12.2f} {f1:10.2f}\")\n"
   ]
  },
  {
   "cell_type": "code",
   "execution_count": 21,
   "id": "259f6255",
   "metadata": {},
   "outputs": [
    {
     "name": "stdout",
     "output_type": "stream",
     "text": [
      "📟 Device: cuda\n",
      "🧪 Evaluasi di Data Train (augmented): 150992 sampel\n",
      "📂 Kelas: ['A', 'AFIB', 'AFL', 'L', 'N', 'R', 'V']\n",
      "✅ Model PvT dengan tuning berhasil dimuat ulang.\n"
     ]
    },
    {
     "name": "stderr",
     "output_type": "stream",
     "text": [
      "🔍 Evaluating on Train Set (PvT): 100%|██████████| 4719/4719 [03:54<00:00, 20.09it/s]\n"
     ]
    },
    {
     "name": "stdout",
     "output_type": "stream",
     "text": [
      "\n",
      "📈 Classification Report:\n",
      "              precision    recall  f1-score   support\n",
      "\n",
      "           A       0.99      0.91      0.95      7128\n",
      "        AFIB       1.00      1.00      1.00     30520\n",
      "         AFL       0.99      0.89      0.94       464\n",
      "           L       1.00      1.00      1.00     22604\n",
      "           N       0.98      1.00      0.99     50000\n",
      "           R       1.00      1.00      1.00     20316\n",
      "           V       1.00      0.99      0.99     19960\n",
      "\n",
      "    accuracy                           0.99    150992\n",
      "   macro avg       0.99      0.97      0.98    150992\n",
      "weighted avg       0.99      0.99      0.99    150992\n",
      "\n"
     ]
    },
    {
     "data": {
      "image/png": "[encoded data removed]",
      "text/plain": [
       "<Figure size 800x600 with 2 Axes>"
      ]
     },
     "metadata": {},
     "output_type": "display_data"
    },
    {
     "name": "stdout",
     "output_type": "stream",
     "text": [
      "\n",
      "Class        Accuracy  Precision  Sensitivity  Specificity   F1-Score\n",
      "A               99.53      99.10        90.91        99.96      94.83\n",
      "AFIB            99.96      99.84        99.98        99.96      99.91\n",
      "AFL             99.96      98.81        89.44       100.00      93.89\n",
      "L               99.95      99.90        99.73        99.98      99.82\n",
      "N               99.44      98.49        99.84        99.24      99.16\n",
      "R               99.94      99.77        99.81        99.96      99.79\n",
      "V               99.87      99.65        99.33        99.95      99.49\n"
     ]
    }
   ],
   "source": [
    "import torch\n",
    "from torchvision import datasets, transforms\n",
    "from torch.utils.data import DataLoader\n",
    "import torch.nn as nn\n",
    "import numpy as np\n",
    "from sklearn.metrics import classification_report, confusion_matrix\n",
    "import matplotlib.pyplot as plt\n",
    "import seaborn as sns\n",
    "from tqdm import tqdm\n",
    "from timm import create_model\n",
    "\n",
    "# === Device\n",
    "device = torch.device(\"cuda\" if torch.cuda.is_available() else \"cpu\")\n",
    "print(f\"📟 Device: {device}\")\n",
    "\n",
    "# === Path Train Dataset\n",
    "train_dir = \"dataset_vit_aug/train\"\n",
    "\n",
    "# === Transformasi ringan (tanpa augmentasi berat)\n",
    "train_transform = transforms.Compose([\n",
    "    transforms.Resize((224, 224)),\n",
    "    transforms.ToTensor(),\n",
    "    transforms.Normalize([0.5], [0.5])\n",
    "])\n",
    "\n",
    "# === Load Dataset\n",
    "train_dataset = datasets.ImageFolder(train_dir, transform=train_transform)\n",
    "classes = train_dataset.classes\n",
    "train_loader = DataLoader(train_dataset, batch_size=32, shuffle=False, num_workers=4, pin_memory=True)\n",
    "print(f\"🧪 Evaluasi di Data Train (augmented): {len(train_dataset)} sampel\")\n",
    "print(f\"📂 Kelas: {classes}\")\n",
    "\n",
    "# === Load Model PvT hasil tuning\n",
    "model = create_model(\"pvt_v2_b0\", pretrained=True, num_classes=0)\n",
    "model.head = nn.Sequential(\n",
    "    nn.Dropout(0.2),\n",
    "    nn.Linear(model.num_features, len(classes))\n",
    ")\n",
    "model.load_state_dict(torch.load(\"model_pvt_tuning.pth\"))  # ganti jika berbeda\n",
    "model = model.to(device)\n",
    "model.eval()\n",
    "print(\"✅ Model PvT dengan tuning berhasil dimuat ulang.\")\n",
    "\n",
    "# === Evaluasi Model pada Data Train\n",
    "y_true, y_pred = [], []\n",
    "with torch.no_grad():\n",
    "    loop = tqdm(train_loader, desc=\"🔍 Evaluating on Train Set (PvT)\")\n",
    "    for images, labels in loop:\n",
    "        images = images.to(device, non_blocking=True)\n",
    "        labels = labels.to(device, non_blocking=True)\n",
    "        outputs = model(images)\n",
    "        _, preds = torch.max(outputs, 1)\n",
    "        y_true.extend(labels.cpu().numpy())\n",
    "        y_pred.extend(preds.cpu().numpy())\n",
    "\n",
    "# === Classification Report\n",
    "print(\"\\n📈 Classification Report:\")\n",
    "report = classification_report(y_true, y_pred, target_names=classes, output_dict=True)\n",
    "print(classification_report(y_true, y_pred, target_names=classes))\n",
    "\n",
    "# === Confusion Matrix\n",
    "cm = confusion_matrix(y_true, y_pred)\n",
    "plt.figure(figsize=(8, 6))\n",
    "sns.heatmap(cm, annot=True, fmt='d', cmap='Blues', xticklabels=classes, yticklabels=classes)\n",
    "plt.xlabel(\"Predicted\")\n",
    "plt.ylabel(\"True\")\n",
    "plt.title(\"Confusion Matrix – PvT on Train Set (Augmented)\")\n",
    "plt.tight_layout()\n",
    "plt.show()\n",
    "\n",
    "# === Perhitungan Metrik Tambahan\n",
    "def calculate_specificity(cm):\n",
    "    specificity = []\n",
    "    for i in range(len(cm)):\n",
    "        tn = np.sum(np.delete(np.delete(cm, i, axis=0), i, axis=1))\n",
    "        fp = np.sum(np.delete(cm[:, i], i))\n",
    "        specificity.append(tn / (tn + fp + 1e-8))\n",
    "    return specificity\n",
    "\n",
    "def calculate_per_class_accuracy(cm):\n",
    "    accuracy = []\n",
    "    for i in range(len(cm)):\n",
    "        tp = cm[i, i]\n",
    "        tn = np.sum(np.delete(np.delete(cm, i, axis=0), i, axis=1))\n",
    "        fp = np.sum(cm[:, i]) - tp\n",
    "        fn = np.sum(cm[i, :]) - tp\n",
    "        acc = (tp + tn) / (tp + tn + fp + fn + 1e-8)\n",
    "        accuracy.append(acc)\n",
    "    return accuracy\n",
    "\n",
    "specificities = calculate_specificity(cm)\n",
    "accuracies = calculate_per_class_accuracy(cm)\n",
    "\n",
    "# === Tabel Evaluasi Per Kelas\n",
    "print(f\"\\n{'Class':<10} {'Accuracy':>10} {'Precision':>10} {'Sensitivity':>12} {'Specificity':>12} {'F1-Score':>10}\")\n",
    "for idx, cls in enumerate(classes):\n",
    "    acc = accuracies[idx] * 100\n",
    "    prec = report[cls]['precision'] * 100\n",
    "    sens = report[cls]['recall'] * 100\n",
    "    spec = specificities[idx] * 100\n",
    "    f1 = report[cls]['f1-score'] * 100\n",
    "    print(f\"{cls:<10} {acc:10.2f} {prec:10.2f} {sens:12.2f} {spec:12.2f} {f1:10.2f}\")\n"
   ]
  }
 ],
 "metadata": {
  "kernelspec": {
   "display_name": "Python 3",
   "language": "python",
   "name": "python3"
  },
  "language_info": {
   "codemirror_mode": {
    "name": "ipython",
    "version": 3
   },
   "file_extension": ".py",
   "mimetype": "text/x-python",
   "name": "python",
   "nbconvert_exporter": "python",
   "pygments_lexer": "ipython3",
   "version": "3.11.9"
  }
 },
 "nbformat": 4,
 "nbformat_minor": 5
}
