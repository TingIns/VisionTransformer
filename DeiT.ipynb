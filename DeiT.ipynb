{
 "cells": [
  {
   "cell_type": "code",
   "execution_count": 1,
   "id": "c7549df4",
   "metadata": {},
   "outputs": [
    {
     "name": "stdout",
     "output_type": "stream",
     "text": [
      "Requirement already satisfied: timm in c:\\users\\pravi\\appdata\\local\\programs\\python\\python311\\lib\\site-packages (1.0.15)\n",
      "Requirement already satisfied: torch in c:\\users\\pravi\\appdata\\local\\programs\\python\\python311\\lib\\site-packages (from timm) (2.6.0+cu126)\n",
      "Requirement already satisfied: torchvision in c:\\users\\pravi\\appdata\\local\\programs\\python\\python311\\lib\\site-packages (from timm) (0.21.0)\n",
      "Requirement already satisfied: pyyaml in c:\\users\\pravi\\appdata\\local\\programs\\python\\python311\\lib\\site-packages (from timm) (6.0.2)\n",
      "Requirement already satisfied: huggingface_hub in c:\\users\\pravi\\appdata\\local\\programs\\python\\python311\\lib\\site-packages (from timm) (0.30.2)\n",
      "Requirement already satisfied: safetensors in c:\\users\\pravi\\appdata\\local\\programs\\python\\python311\\lib\\site-packages (from timm) (0.5.3)\n",
      "Requirement already satisfied: filelock in c:\\users\\pravi\\appdata\\local\\programs\\python\\python311\\lib\\site-packages (from huggingface_hub->timm) (3.17.0)\n",
      "Requirement already satisfied: fsspec>=2023.5.0 in c:\\users\\pravi\\appdata\\local\\programs\\python\\python311\\lib\\site-packages (from huggingface_hub->timm) (2024.12.0)\n",
      "Requirement already satisfied: packaging>=20.9 in c:\\users\\pravi\\appdata\\roaming\\python\\python311\\site-packages (from huggingface_hub->timm) (24.2)\n",
      "Requirement already satisfied: requests in c:\\users\\pravi\\appdata\\local\\programs\\python\\python311\\lib\\site-packages (from huggingface_hub->timm) (2.32.3)\n",
      "Requirement already satisfied: tqdm>=4.42.1 in c:\\users\\pravi\\appdata\\local\\programs\\python\\python311\\lib\\site-packages (from huggingface_hub->timm) (4.67.1)\n",
      "Requirement already satisfied: typing-extensions>=3.7.4.3 in c:\\users\\pravi\\appdata\\roaming\\python\\python311\\site-packages (from huggingface_hub->timm) (4.12.2)\n",
      "Requirement already satisfied: colorama in c:\\users\\pravi\\appdata\\roaming\\python\\python311\\site-packages (from tqdm>=4.42.1->huggingface_hub->timm) (0.4.6)\n",
      "Requirement already satisfied: charset-normalizer<4,>=2 in c:\\users\\pravi\\appdata\\local\\programs\\python\\python311\\lib\\site-packages (from requests->huggingface_hub->timm) (3.4.1)\n",
      "Requirement already satisfied: idna<4,>=2.5 in c:\\users\\pravi\\appdata\\local\\programs\\python\\python311\\lib\\site-packages (from requests->huggingface_hub->timm) (3.7)\n",
      "Requirement already satisfied: urllib3<3,>=1.21.1 in c:\\users\\pravi\\appdata\\local\\programs\\python\\python311\\lib\\site-packages (from requests->huggingface_hub->timm) (2.3.0)\n",
      "Requirement already satisfied: certifi>=2017.4.17 in c:\\users\\pravi\\appdata\\local\\programs\\python\\python311\\lib\\site-packages (from requests->huggingface_hub->timm) (2025.1.31)\n",
      "Requirement already satisfied: networkx in c:\\users\\pravi\\appdata\\local\\programs\\python\\python311\\lib\\site-packages (from torch->timm) (3.4.2)\n",
      "Requirement already satisfied: jinja2 in c:\\users\\pravi\\appdata\\local\\programs\\python\\python311\\lib\\site-packages (from torch->timm) (3.1.6)\n",
      "Requirement already satisfied: sympy==1.13.1 in c:\\users\\pravi\\appdata\\local\\programs\\python\\python311\\lib\\site-packages (from torch->timm) (1.13.1)\n",
      "Requirement already satisfied: mpmath<1.4,>=1.1.0 in c:\\users\\pravi\\appdata\\local\\programs\\python\\python311\\lib\\site-packages (from sympy==1.13.1->torch->timm) (1.3.0)\n",
      "Requirement already satisfied: MarkupSafe>=2.0 in c:\\users\\pravi\\appdata\\local\\programs\\python\\python311\\lib\\site-packages (from jinja2->torch->timm) (3.0.2)\n",
      "Requirement already satisfied: numpy in c:\\users\\pravi\\appdata\\local\\programs\\python\\python311\\lib\\site-packages (from torchvision->timm) (2.1.3)\n",
      "Requirement already satisfied: pillow!=8.3.*,>=5.3.0 in c:\\users\\pravi\\appdata\\local\\programs\\python\\python311\\lib\\site-packages (from torchvision->timm) (11.1.0)\n"
     ]
    },
    {
     "name": "stderr",
     "output_type": "stream",
     "text": [
      "\n",
      "[notice] A new release of pip is available: 25.1 -> 25.1.1\n",
      "[notice] To update, run: python.exe -m pip install --upgrade pip\n"
     ]
    }
   ],
   "source": [
    "!pip install timm\n"
   ]
  },
  {
   "cell_type": "code",
   "execution_count": 2,
   "id": "249fb247",
   "metadata": {},
   "outputs": [
    {
     "name": "stderr",
     "output_type": "stream",
     "text": [
      "c:\\Users\\pravi\\AppData\\Local\\Programs\\Python\\Python311\\Lib\\site-packages\\tqdm\\auto.py:21: TqdmWarning: IProgress not found. Please update jupyter and ipywidgets. See https://ipywidgets.readthedocs.io/en/stable/user_install.html\n",
      "  from .autonotebook import tqdm as notebook_tqdm\n"
     ]
    }
   ],
   "source": [
    "import os\n",
    "import torch\n",
    "import torch.nn as nn\n",
    "import torch.optim as optim\n",
    "from torchvision.datasets import ImageFolder\n",
    "from torchvision import transforms\n",
    "from torch.utils.data import DataLoader\n",
    "from timm import create_model\n",
    "from torch.cuda.amp import GradScaler, autocast\n",
    "from sklearn.metrics import classification_report, confusion_matrix\n",
    "import numpy as np\n",
    "import matplotlib.pyplot as plt\n",
    "import seaborn as sns\n"
   ]
  },
  {
   "cell_type": "code",
   "execution_count": 3,
   "id": "7e0a88f1",
   "metadata": {},
   "outputs": [
    {
     "name": "stdout",
     "output_type": "stream",
     "text": [
      "📟 Device: cuda\n"
     ]
    }
   ],
   "source": [
    "device = torch.device(\"cuda\" if torch.cuda.is_available() else \"cpu\")\n",
    "print(f\"📟 Device: {device}\")\n"
   ]
  },
  {
   "cell_type": "code",
   "execution_count": 4,
   "id": "2a42ec34",
   "metadata": {},
   "outputs": [],
   "source": [
    "train_transform = transforms.Compose([\n",
    "    transforms.Resize((224, 224)),\n",
    "    transforms.RandomHorizontalFlip(),\n",
    "    transforms.RandomAffine(degrees=5, translate=(0.05, 0.05)),\n",
    "    transforms.ToTensor(),\n",
    "    transforms.Normalize([0.5], [0.5])\n",
    "])\n",
    "\n",
    "test_transform = transforms.Compose([\n",
    "    transforms.Resize((224, 224)),\n",
    "    transforms.ToTensor(),\n",
    "    transforms.Normalize([0.5], [0.5])\n",
    "])\n"
   ]
  },
  {
   "cell_type": "code",
   "execution_count": 5,
   "id": "f577555b",
   "metadata": {},
   "outputs": [
    {
     "name": "stdout",
     "output_type": "stream",
     "text": [
      "📊 Train: 150992 | Test: 33335\n",
      "📂 Classes: ['A', 'AFIB', 'AFL', 'L', 'N', 'R', 'V']\n"
     ]
    }
   ],
   "source": [
    "train_dir = \"dataset_vit_aug/train\"\n",
    "test_dir = \"dataset_vit/test\"\n",
    "\n",
    "train_dataset = ImageFolder(train_dir, transform=train_transform)\n",
    "test_dataset = ImageFolder(test_dir, transform=test_transform)\n",
    "\n",
    "print(f\"📊 Train: {len(train_dataset)} | Test: {len(test_dataset)}\")\n",
    "print(f\"📂 Classes: {train_dataset.classes}\")\n"
   ]
  },
  {
   "cell_type": "code",
   "execution_count": 6,
   "id": "2276ddd4",
   "metadata": {},
   "outputs": [
    {
     "name": "stdout",
     "output_type": "stream",
     "text": [
      "🟢 Train: 128343 | 🟡 Val: 22649\n"
     ]
    }
   ],
   "source": [
    "from torch.utils.data import random_split\n",
    "\n",
    "train_size = int(0.85 * len(train_dataset))\n",
    "val_size = len(train_dataset) - train_size\n",
    "train_set, val_set = random_split(train_dataset, [train_size, val_size])\n",
    "\n",
    "print(f\"🟢 Train: {len(train_set)} | 🟡 Val: {len(val_set)}\")\n"
   ]
  },
  {
   "cell_type": "code",
   "execution_count": 7,
   "id": "ff3b55ad",
   "metadata": {},
   "outputs": [],
   "source": [
    "batch_size = 32\n",
    "\n",
    "train_loader = DataLoader(train_set, batch_size=batch_size, shuffle=True, num_workers=4, pin_memory=True)\n",
    "val_loader = DataLoader(val_set, batch_size=batch_size, shuffle=False, num_workers=4, pin_memory=True)\n",
    "test_loader = DataLoader(test_dataset, batch_size=batch_size, shuffle=False, num_workers=4, pin_memory=True)\n"
   ]
  },
  {
   "cell_type": "code",
   "execution_count": 8,
   "id": "ccbb62dd",
   "metadata": {},
   "outputs": [
    {
     "name": "stdout",
     "output_type": "stream",
     "text": [
      "✅ DeiT model dengan tuning siap di GPU\n"
     ]
    }
   ],
   "source": [
    "model = create_model(\"deit_base_patch16_224\", pretrained=True, num_classes=0)  # No default head\n",
    "model.head = nn.Sequential(\n",
    "    nn.Dropout(0.2),\n",
    "    nn.Linear(model.num_features, len(train_dataset.classes))\n",
    ")\n",
    "model = model.to(device)\n",
    "print(\"✅ DeiT model dengan tuning siap di GPU\")\n"
   ]
  },
  {
   "cell_type": "code",
   "execution_count": 9,
   "id": "a9966161",
   "metadata": {},
   "outputs": [
    {
     "name": "stderr",
     "output_type": "stream",
     "text": [
      "C:\\Users\\pravi\\AppData\\Local\\Temp\\ipykernel_6720\\2037770196.py:7: FutureWarning: `torch.cuda.amp.GradScaler(args...)` is deprecated. Please use `torch.amp.GradScaler('cuda', args...)` instead.\n",
      "  scaler = GradScaler()\n"
     ]
    }
   ],
   "source": [
    "from tqdm import tqdm\n",
    "import time\n",
    "\n",
    "num_epochs = 5\n",
    "criterion = nn.CrossEntropyLoss()\n",
    "optimizer = optim.AdamW(model.parameters(), lr=1e-4)\n",
    "scaler = GradScaler()\n"
   ]
  },
  {
   "cell_type": "code",
   "execution_count": 10,
   "id": "8b656c31",
   "metadata": {},
   "outputs": [
    {
     "name": "stderr",
     "output_type": "stream",
     "text": [
      "🚀 Epoch [1/5]:   0%|          | 0/4011 [00:00<?, ?it/s]C:\\Users\\pravi\\AppData\\Local\\Temp\\ipykernel_6720\\3702559720.py:16: FutureWarning: `torch.cuda.amp.autocast(args...)` is deprecated. Please use `torch.amp.autocast('cuda', args...)` instead.\n",
      "  with autocast():\n",
      "🚀 Epoch [1/5]: 100%|██████████| 4011/4011 [29:31<00:00,  2.26it/s, loss=0.0187] \n"
     ]
    },
    {
     "name": "stdout",
     "output_type": "stream",
     "text": [
      "✅ Epoch 1 selesai - Loss: 0.1082 - 🎯 Akurasi: 96.61% - ⏱️ Durasi: 29m 31s\n",
      "📈 GPU Mem Used: 1341.49 MB\n"
     ]
    },
    {
     "name": "stderr",
     "output_type": "stream",
     "text": [
      "🚀 Epoch [2/5]: 100%|██████████| 4011/4011 [29:27<00:00,  2.27it/s, loss=0.0546]  \n"
     ]
    },
    {
     "name": "stdout",
     "output_type": "stream",
     "text": [
      "✅ Epoch 2 selesai - Loss: 0.0602 - 🎯 Akurasi: 98.09% - ⏱️ Durasi: 29m 27s\n",
      "📈 GPU Mem Used: 1341.49 MB\n"
     ]
    },
    {
     "name": "stderr",
     "output_type": "stream",
     "text": [
      "🚀 Epoch [3/5]: 100%|██████████| 4011/4011 [28:36<00:00,  2.34it/s, loss=0.00501] \n"
     ]
    },
    {
     "name": "stdout",
     "output_type": "stream",
     "text": [
      "✅ Epoch 3 selesai - Loss: 0.0475 - 🎯 Akurasi: 98.50% - ⏱️ Durasi: 28m 36s\n",
      "📈 GPU Mem Used: 1341.49 MB\n"
     ]
    },
    {
     "name": "stderr",
     "output_type": "stream",
     "text": [
      "🚀 Epoch [4/5]: 100%|██████████| 4011/4011 [28:29<00:00,  2.35it/s, loss=0.326]   \n"
     ]
    },
    {
     "name": "stdout",
     "output_type": "stream",
     "text": [
      "✅ Epoch 4 selesai - Loss: 0.0411 - 🎯 Akurasi: 98.69% - ⏱️ Durasi: 28m 29s\n",
      "📈 GPU Mem Used: 1341.49 MB\n"
     ]
    },
    {
     "name": "stderr",
     "output_type": "stream",
     "text": [
      "🚀 Epoch [5/5]: 100%|██████████| 4011/4011 [28:31<00:00,  2.34it/s, loss=0.000858]"
     ]
    },
    {
     "name": "stdout",
     "output_type": "stream",
     "text": [
      "✅ Epoch 5 selesai - Loss: 0.0368 - 🎯 Akurasi: 98.80% - ⏱️ Durasi: 28m 31s\n",
      "📈 GPU Mem Used: 1341.49 MB\n"
     ]
    },
    {
     "name": "stderr",
     "output_type": "stream",
     "text": [
      "\n"
     ]
    }
   ],
   "source": [
    "for epoch in range(num_epochs):\n",
    "    model.train()\n",
    "    total_loss = 0\n",
    "    correct = 0\n",
    "    total_samples = 0\n",
    "    start_time = time.time()\n",
    "\n",
    "    loop = tqdm(train_loader, desc=f\"🚀 Epoch [{epoch+1}/{num_epochs}]\")\n",
    "\n",
    "    for images, labels in loop:\n",
    "        images = images.to(device, non_blocking=True)\n",
    "        labels = labels.to(device, non_blocking=True)\n",
    "\n",
    "        optimizer.zero_grad()\n",
    "\n",
    "        with autocast():\n",
    "            outputs = model(images)\n",
    "            loss = criterion(outputs, labels)\n",
    "\n",
    "        scaler.scale(loss).backward()\n",
    "        scaler.step(optimizer)\n",
    "        scaler.update()\n",
    "\n",
    "        total_loss += loss.item()\n",
    "        _, preds = torch.max(outputs, 1)\n",
    "        correct += (preds == labels).sum().item()\n",
    "        total_samples += labels.size(0)\n",
    "\n",
    "        loop.set_postfix(loss=loss.item())\n",
    "\n",
    "    acc = correct / total_samples * 100\n",
    "    avg_loss = total_loss / len(train_loader)\n",
    "    mins, secs = divmod(time.time() - start_time, 60)\n",
    "    print(f\"✅ Epoch {epoch+1} selesai - Loss: {avg_loss:.4f} - 🎯 Akurasi: {acc:.2f}% - ⏱️ Durasi: {int(mins)}m {int(secs)}s\")\n",
    "    print(f\"📈 GPU Mem Used: {torch.cuda.memory_allocated() / 1024**2:.2f} MB\")\n"
   ]
  },
  {
   "cell_type": "code",
   "execution_count": 11,
   "id": "a3666a47",
   "metadata": {},
   "outputs": [],
   "source": [
    "class_names = train_dataset.classes\n",
    "model.eval()\n",
    "y_true = []\n",
    "y_pred = []\n",
    "\n",
    "with torch.no_grad():\n",
    "    for inputs, labels in test_loader:\n",
    "        inputs, labels = inputs.to(device), labels.to(device)\n",
    "        outputs = model(inputs)\n",
    "        _, preds = torch.max(outputs, 1)\n",
    "        y_true.extend(labels.cpu().numpy())\n",
    "        y_pred.extend(preds.cpu().numpy())\n",
    "\n",
    "report = classification_report(y_true, y_pred, target_names=class_names, output_dict=True)\n",
    "cm = confusion_matrix(y_true, y_pred)\n"
   ]
  },
  {
   "cell_type": "code",
   "execution_count": 12,
   "id": "ff319b17",
   "metadata": {},
   "outputs": [],
   "source": [
    "def calculate_specificity(cm):\n",
    "    specificity = []\n",
    "    for i in range(len(cm)):\n",
    "        tn = np.sum(np.delete(np.delete(cm, i, axis=0), i, axis=1))\n",
    "        fp = np.sum(np.delete(cm[:, i], i))\n",
    "        specificity.append(tn / (tn + fp + 1e-8))\n",
    "    return specificity\n",
    "\n",
    "def calculate_per_class_accuracy(cm):\n",
    "    accuracy = []\n",
    "    for i in range(len(cm)):\n",
    "        tp = cm[i, i]\n",
    "        tn = np.sum(np.delete(np.delete(cm, i, axis=0), i, axis=1))\n",
    "        fp = np.sum(cm[:, i]) - tp\n",
    "        fn = np.sum(cm[i, :]) - tp\n",
    "        acc = (tp + tn) / (tp + tn + fp + fn + 1e-8)\n",
    "        accuracy.append(acc)\n",
    "    return accuracy\n",
    "\n",
    "specificities = calculate_specificity(cm)\n",
    "accuracies = calculate_per_class_accuracy(cm)\n"
   ]
  },
  {
   "cell_type": "code",
   "execution_count": 13,
   "id": "488e6422",
   "metadata": {},
   "outputs": [
    {
     "name": "stdout",
     "output_type": "stream",
     "text": [
      "Class        Accuracy  Precision  Sensitivity  Specificity   F1-Score\n",
      "A               99.34      81.53        91.88        99.51      86.40\n",
      "AFIB            99.97      99.66       100.00        99.96      99.83\n",
      "AFL             99.97     100.00        78.43       100.00      87.91\n",
      "L               99.87      99.21        98.93        99.94      99.07\n",
      "N               98.92      99.67        98.72        99.33      99.19\n",
      "R               99.92      99.04        99.72        99.93      99.38\n",
      "V               99.46      93.55        98.36        99.54      95.90\n"
     ]
    }
   ],
   "source": [
    "print(f\"{'Class':<10} {'Accuracy':>10} {'Precision':>10} {'Sensitivity':>12} {'Specificity':>12} {'F1-Score':>10}\")\n",
    "for idx, cls in enumerate(class_names):\n",
    "    acc = accuracies[idx] * 100\n",
    "    prec = report[cls]['precision'] * 100\n",
    "    sens = report[cls]['recall'] * 100\n",
    "    spec = specificities[idx] * 100\n",
    "    f1 = report[cls]['f1-score'] * 100\n",
    "    print(f\"{cls:<10} {acc:10.2f} {prec:10.2f} {sens:12.2f} {spec:12.2f} {f1:10.2f}\")\n"
   ]
  },
  {
   "cell_type": "code",
   "execution_count": 14,
   "id": "b4c51633",
   "metadata": {},
   "outputs": [
    {
     "data": {
      "image/png": "[encoded data removed]",
      "text/plain": [
       "<Figure size 800x600 with 2 Axes>"
      ]
     },
     "metadata": {},
     "output_type": "display_data"
    }
   ],
   "source": [
    "plt.figure(figsize=(8, 6))\n",
    "sns.heatmap(cm, annot=True, fmt=\"d\", xticklabels=class_names, yticklabels=class_names, cmap=\"Blues\")\n",
    "plt.xlabel(\"Predicted\")\n",
    "plt.ylabel(\"Actual\")\n",
    "plt.title(\"Confusion Matrix - DeiT with Tuning\")\n",
    "plt.show()\n"
   ]
  },
  {
   "cell_type": "code",
   "execution_count": 15,
   "id": "d4a6a4a6",
   "metadata": {},
   "outputs": [
    {
     "name": "stdout",
     "output_type": "stream",
     "text": [
      "📦 Model DeiT berhasil disimpan!\n"
     ]
    }
   ],
   "source": [
    "torch.save(model.state_dict(), \"model_deit_tuning.pth\")\n",
    "print(\"📦 Model DeiT berhasil disimpan!\")\n"
   ]
  }
 ],
 "metadata": {
  "kernelspec": {
   "display_name": "Python 3",
   "language": "python",
   "name": "python3"
  },
  "language_info": {
   "codemirror_mode": {
    "name": "ipython",
    "version": 3
   },
   "file_extension": ".py",
   "mimetype": "text/x-python",
   "name": "python",
   "nbconvert_exporter": "python",
   "pygments_lexer": "ipython3",
   "version": "3.11.9"
  }
 },
 "nbformat": 4,
 "nbformat_minor": 5
}
